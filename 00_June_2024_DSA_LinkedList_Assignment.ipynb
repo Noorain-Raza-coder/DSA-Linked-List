{
 "cells": [
  {
   "cell_type": "markdown",
   "id": "0a5b2894",
   "metadata": {},
   "source": [
    "## LinkedList"
   ]
  },
  {
   "cell_type": "markdown",
   "id": "e46950e0",
   "metadata": {},
   "source": [
    "#### Problem 1: Reverse a singly linked list.\n",
    "- Input: 1 -> 2 -> 3 -> 4 -> 5 \n",
    "- Output: 5 -> 4 -> 3 -> 2 -> 1"
   ]
  },
  {
   "cell_type": "code",
   "execution_count": null,
   "id": "98c9ecc2",
   "metadata": {},
   "outputs": [],
   "source": []
  },
  {
   "cell_type": "code",
   "execution_count": 5,
   "id": "8bd09e59",
   "metadata": {},
   "outputs": [
    {
     "name": "stdout",
     "output_type": "stream",
     "text": [
      "Linked list :  1 -> 2 -> 3 -> 4 -> 5 -> \n",
      "Reversed Linked list :  5 -> 4 -> 3 -> 2 -> 1 -> "
     ]
    }
   ],
   "source": [
    "class node:\n",
    "    def __init__(self, data = None, nextRef = None):\n",
    "        self.data = data\n",
    "        self.nextRef = nextRef\n",
    "           \n",
    "    def setData(self, data):\n",
    "        self.data = data\n",
    "        \n",
    "    def getData(self):\n",
    "        return self.data\n",
    "    \n",
    "    def setNext(self, nextRef):\n",
    "        self.nextRef = nextRef\n",
    "        \n",
    "    def getNext(self):\n",
    "        return self.nextRef\n",
    "\n",
    "\n",
    "## create linked list :\n",
    "# create the nodes\n",
    "head = node(1)\n",
    "node2 = node(2)\n",
    "node3 = node(3)\n",
    "node4 = node(4)\n",
    "node5 = node(5)\n",
    "\n",
    "# link all the nodes\n",
    "head.setNext(node2)\n",
    "node2.setNext(node3)\n",
    "node3.setNext(node4)\n",
    "node4.setNext(node5)\n",
    "\n",
    "\n",
    "## function that prints the linked list\n",
    "def PrintLinkedList(head):\n",
    "    temp = head\n",
    "    while temp:\n",
    "        print(temp.data , \"->\" , end= \" \")\n",
    "        temp = temp.getNext()\n",
    "        \n",
    "    return\n",
    "\n",
    "\n",
    "## Function that reverse a givenlinked list\n",
    "def reverseLinkedList(head):\n",
    "    ## initialize three pointers\n",
    "    prev = None\n",
    "    cur = head\n",
    "    next = None\n",
    "    \n",
    "    ## run the loop to traverse through all elements\n",
    "    while cur != None:\n",
    "        # save the next node for future\n",
    "        next = cur.getNext()\n",
    "        \n",
    "        # set/point the next of cur to previous node\n",
    "        cur.setNext(prev)\n",
    "        \n",
    "        # update the prev and current pointers\n",
    "        prev = cur\n",
    "        cur = next\n",
    "        \n",
    "    return prev\n",
    "\n",
    "\n",
    "# Display original linked list\n",
    "print(\"Linked list : \", end= \" \")\n",
    "PrintLinkedList(head)\n",
    "\n",
    "# call reverse function\n",
    "head = reverseLinkedList(head)\n",
    "\n",
    "print(\"\\nReversed Linked list : \", end= \" \")\n",
    "PrintLinkedList(head)"
   ]
  },
  {
   "cell_type": "markdown",
   "id": "4ffa05f7",
   "metadata": {},
   "source": [
    "#### Problem 2: Merge two sorted linked lists into one sorted linked list.\n",
    "- Input: List 1: 1 -> 3 -> 5, List 2: 2 -> 4 -> 6\n",
    "- Output: 1 -> 2 -> 3 -> 4 -> 5 -> 6"
   ]
  },
  {
   "cell_type": "markdown",
   "id": "644861ce",
   "metadata": {},
   "source": [
    "#### Problem 3: Remove the nth node from the end of a linked list.\n",
    "- Input: 1 -> 2 -> 3 -> 4 -> 5, n = 2\n",
    "- Output: 1 -> 2 -> 3 -> 5"
   ]
  },
  {
   "cell_type": "markdown",
   "id": "16dc8d1c",
   "metadata": {},
   "source": [
    "#### Problem 4: Find the intersection point of two linked lists.\n",
    "- Input: List 1: 1 -> 2 -> 3 -> 4, List 2: 9 -> 8 -> 3 -> 4\n",
    "- Output: Node with value 3"
   ]
  },
  {
   "cell_type": "markdown",
   "id": "465764a4",
   "metadata": {},
   "source": [
    "#### Problem 5: Remove duplicates from a sorted linked list.\n",
    "- Input: 1 -> 1 -> 2 -> 3 -> 3\n",
    "- Output: 1 -> 2 -> 3"
   ]
  },
  {
   "cell_type": "markdown",
   "id": "42d917ae",
   "metadata": {},
   "source": [
    "#### Problem 6: Add two numbers represented by linked lists (where each node contains a single digit).\n",
    "- Input: List 1: 2 -> 4 -> 3, List 2: 5 -> 6 -> 4 (represents 342 + 465)\n",
    "- Output: 7 -> 0 -> 8 (represents 807)"
   ]
  },
  {
   "cell_type": "markdown",
   "id": "439bff1a",
   "metadata": {},
   "source": [
    "#### Problem 7: Swap nodes in pairs in a linked list.\n",
    "- Input: 1 -> 2 -> 3 -> 4\n",
    "- Output: 2 -> 1 -> 4 -> 3"
   ]
  },
  {
   "cell_type": "markdown",
   "id": "5aef50ad",
   "metadata": {},
   "source": [
    "#### Problem 8: Reverse nodes in a linked list in groups of k.\n",
    "- Input: 1 -> 2 -> 3 -> 4 -> 5, k = 3\n",
    "- Output: 3 -> 2 -> 1 -> 4 -> 5"
   ]
  },
  {
   "cell_type": "markdown",
   "id": "d8760876",
   "metadata": {},
   "source": [
    "#### Problem 9: Determine if a linked list is a palindrome.\n",
    "- Input: 1 -> 2 -> 2 -> 1\n",
    "- Output: True"
   ]
  },
  {
   "cell_type": "markdown",
   "id": "e55ab3be",
   "metadata": {},
   "source": [
    "#### Problem 10: Rotate a linked list to the right by k places.\n",
    "- Input: 1 -> 2 -> 3 -> 4 -> 5, k = 2\n",
    "- Output: 4 -> 5 -> 1 -> 2 -> 3"
   ]
  },
  {
   "cell_type": "markdown",
   "id": "e135bca6",
   "metadata": {},
   "source": [
    "#### Problem 11: Flatten a multilevel doubly linked list.\n",
    "- Input: 1 <-> 2 <-> 3 <-> 7 <-> 8 <-> 11 -> 12, 4 <-> 5 -> 9 -> 10, 6 -> 13\n",
    "- Output: 1 <-> 2 <-> 3 <-> 4 <-> 5 <-> 6 <-> 7 <-> 8 <-> 9 <-> 10 <-> 11 <-> 12 <-> 13"
   ]
  },
  {
   "cell_type": "markdown",
   "id": "fbe364bd",
   "metadata": {},
   "source": [
    "#### Problem 12: Rearrange a linked list such that all even positioned nodes are placed at the end.\n",
    "- Input: 1 -> 2 -> 3 -> 4 -> 5\n",
    "\n",
    "- Output: 1 -> 3 -> 5 -> 2 -> 4"
   ]
  },
  {
   "cell_type": "markdown",
   "id": "0d6ac113",
   "metadata": {},
   "source": [
    "#### Problem 13: Given a non-negative number represented as a linked list, add one to it.\n",
    "- Input: 1 -> 2 -> 3 (represents the number 123)\n",
    "\n",
    "- Output: 1 -> 2 -> 4 (represents the number 124)"
   ]
  },
  {
   "cell_type": "markdown",
   "id": "4432d76d",
   "metadata": {},
   "source": [
    "#### Problem 14: Given a sorted array and a target value, return the index if the target is found. If not, return the index where it would be inserted."
   ]
  },
  {
   "cell_type": "markdown",
   "id": "215a3e50",
   "metadata": {},
   "source": [
    "#### Problem 15: Find the minimum element in a rotated sorted array."
   ]
  },
  {
   "cell_type": "markdown",
   "id": "53d807bf",
   "metadata": {},
   "source": [
    "#### Problem 16: Search for a target value in a rotated sorted array."
   ]
  },
  {
   "cell_type": "markdown",
   "id": "55d59894",
   "metadata": {},
   "source": [
    "#### Problem 17: Find the peak element in an array. A peak element is greater than its neighbors."
   ]
  },
  {
   "cell_type": "markdown",
   "id": "10f76e85",
   "metadata": {},
   "source": [
    "#### Problem 18: Given a m x n matrix where each row and column is sorted in ascending order, count the number of negative numbers."
   ]
  },
  {
   "cell_type": "markdown",
   "id": "7682b155",
   "metadata": {},
   "source": []
  }
 ],
 "metadata": {
  "kernelspec": {
   "display_name": "Python 3 (ipykernel)",
   "language": "python",
   "name": "python3"
  },
  "language_info": {
   "codemirror_mode": {
    "name": "ipython",
    "version": 3
   },
   "file_extension": ".py",
   "mimetype": "text/x-python",
   "name": "python",
   "nbconvert_exporter": "python",
   "pygments_lexer": "ipython3",
   "version": "3.9.12"
  }
 },
 "nbformat": 4,
 "nbformat_minor": 5
}
