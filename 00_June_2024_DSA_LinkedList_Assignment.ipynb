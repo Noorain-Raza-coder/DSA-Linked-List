{
 "cells": [
  {
   "cell_type": "markdown",
   "id": "0a5b2894",
   "metadata": {},
   "source": [
    "## LinkedList"
   ]
  },
  {
   "cell_type": "markdown",
   "id": "e46950e0",
   "metadata": {},
   "source": [
    "#### Problem 1: Reverse a singly linked list.\n",
    "- Input: 1 -> 2 -> 3 -> 4 -> 5 \n",
    "- Output: 5 -> 4 -> 3 -> 2 -> 1"
   ]
  },
  {
   "cell_type": "code",
   "execution_count": null,
   "id": "55231d08",
   "metadata": {},
   "outputs": [],
   "source": []
  },
  {
   "cell_type": "code",
   "execution_count": 1,
   "id": "d30badb7",
   "metadata": {},
   "outputs": [
    {
     "name": "stdout",
     "output_type": "stream",
     "text": [
      "Linked list :  1 -> 2 -> 3 -> 4 -> 5 -> \n",
      "Reversed Linked list :  5 -> 4 -> 3 -> 2 -> 1 -> "
     ]
    }
   ],
   "source": [
    "class node:\n",
    "    def __init__(self, data = None, nextRef = None):\n",
    "        self.data = data\n",
    "        self.nextRef = nextRef\n",
    "           \n",
    "    def setData(self, data):\n",
    "        self.data = data\n",
    "        \n",
    "    def getData(self):\n",
    "        return self.data\n",
    "    \n",
    "    def setNext(self, nextRef):\n",
    "        self.nextRef = nextRef\n",
    "        \n",
    "    def getNext(self):\n",
    "        return self.nextRef\n",
    "\n",
    "\n",
    "## create linked list :\n",
    "# create the nodes\n",
    "head = node(1)\n",
    "node2 = node(2)\n",
    "node3 = node(3)\n",
    "node4 = node(4)\n",
    "node5 = node(5)\n",
    "\n",
    "# link all the nodes\n",
    "head.setNext(node2)\n",
    "node2.setNext(node3)\n",
    "node3.setNext(node4)\n",
    "node4.setNext(node5)\n",
    "\n",
    "\n",
    "## function that prints the linked list\n",
    "def PrintLinkedList(head):\n",
    "    temp = head\n",
    "    while temp:\n",
    "        print(temp.data , \"->\" , end= \" \")\n",
    "        temp = temp.getNext()\n",
    "        \n",
    "    return\n",
    "\n",
    "\n",
    "## Function that reverse a givenlinked list\n",
    "def reverseLinkedList(head):\n",
    "    ## initialize three pointers\n",
    "    prev = None\n",
    "    cur = head\n",
    "    next = None\n",
    "    \n",
    "    ## run the loop to traverse through all elements\n",
    "    while cur != None:\n",
    "        # save the next node for future\n",
    "        next = cur.getNext()\n",
    "        \n",
    "        # set/point the next of cur to previous node\n",
    "        cur.setNext(prev)\n",
    "        \n",
    "        # update the prev and current pointers\n",
    "        prev = cur\n",
    "        cur = next\n",
    "        \n",
    "    return prev\n",
    "\n",
    "\n",
    "# Display original linked list\n",
    "print(\"Linked list : \", end= \" \")\n",
    "PrintLinkedList(head)\n",
    "\n",
    "# call reverse function\n",
    "head = reverseLinkedList(head)\n",
    "\n",
    "print(\"\\nReversed Linked list : \", end= \" \")\n",
    "PrintLinkedList(head)"
   ]
  },
  {
   "cell_type": "markdown",
   "id": "4ffa05f7",
   "metadata": {},
   "source": [
    "#### Problem 2: Merge two sorted linked lists into one sorted linked list.\n",
    "- Input: List 1: 1 -> 3 -> 5, List 2: 2 -> 4 -> 6\n",
    "- Output: 1 -> 2 -> 3 -> 4 -> 5 -> 6"
   ]
  },
  {
   "cell_type": "code",
   "execution_count": 2,
   "id": "0ddd0da1",
   "metadata": {},
   "outputs": [
    {
     "name": "stdout",
     "output_type": "stream",
     "text": [
      "List 1 :  1 -> 3 -> 5 -> \n",
      "List 2 :  2 -> 4 -> 6 -> "
     ]
    }
   ],
   "source": [
    "## create two linked list\n",
    "# list 1)\n",
    "head1 = node(1)\n",
    "node_12 = node(3)\n",
    "node_13 = node(5)\n",
    "\n",
    "# list list 1\n",
    "head1.setNext(node_12)\n",
    "node_12.setNext(node_13)\n",
    "\n",
    "\n",
    "# list 2)\n",
    "head2 = node(2)\n",
    "node_22 = node(4)\n",
    "node_23 = node(6)\n",
    "\n",
    "# list list 2\n",
    "head2.setNext(node_22)\n",
    "node_22.setNext(node_23)\n",
    "\n",
    "\n",
    "## Print list1\n",
    "print(\"List 1 : \",end=\" \")\n",
    "PrintLinkedList(head1)\n",
    "\n",
    "## Print list2\n",
    "print(\"\\nList 2 : \",end = \" \")\n",
    "PrintLinkedList(head2)\n"
   ]
  },
  {
   "cell_type": "code",
   "execution_count": 4,
   "id": "c7f7fb40",
   "metadata": {},
   "outputs": [
    {
     "ename": "KeyboardInterrupt",
     "evalue": "",
     "output_type": "error",
     "traceback": [
      "\u001b[1;31m---------------------------------------------------------------------------\u001b[0m",
      "\u001b[1;31mKeyboardInterrupt\u001b[0m                         Traceback (most recent call last)",
      "Input \u001b[1;32mIn [4]\u001b[0m, in \u001b[0;36m<cell line: 36>\u001b[1;34m()\u001b[0m\n\u001b[0;32m     32\u001b[0m         \u001b[38;5;28;01mreturn\u001b[39;00m head2\n\u001b[0;32m     35\u001b[0m \u001b[38;5;66;03m## calling function\u001b[39;00m\n\u001b[1;32m---> 36\u001b[0m head \u001b[38;5;241m=\u001b[39m \u001b[43mMergeLinkedList\u001b[49m\u001b[43m(\u001b[49m\u001b[43mhead1\u001b[49m\u001b[43m,\u001b[49m\u001b[43mhead2\u001b[49m\u001b[43m)\u001b[49m\n",
      "Input \u001b[1;32mIn [4]\u001b[0m, in \u001b[0;36mMergeLinkedList\u001b[1;34m(head1, head2)\u001b[0m\n\u001b[0;32m      5\u001b[0m cur2 \u001b[38;5;241m=\u001b[39m head2\n\u001b[0;32m      7\u001b[0m \u001b[38;5;28;01mwhile\u001b[39;00m (cur1 \u001b[38;5;241m!=\u001b[39m \u001b[38;5;28;01mNone\u001b[39;00m) \u001b[38;5;129;01mand\u001b[39;00m (cur2 \u001b[38;5;241m!=\u001b[39m \u001b[38;5;28;01mNone\u001b[39;00m):\n\u001b[1;32m----> 8\u001b[0m     next1 \u001b[38;5;241m=\u001b[39m \u001b[43mcur1\u001b[49m\u001b[38;5;241;43m.\u001b[39;49m\u001b[43mgetNext\u001b[49m\u001b[43m(\u001b[49m\u001b[43m)\u001b[49m\n\u001b[0;32m      9\u001b[0m     next2 \u001b[38;5;241m=\u001b[39m cur2\u001b[38;5;241m.\u001b[39mgetNext()\n\u001b[0;32m     11\u001b[0m     \u001b[38;5;28;01mif\u001b[39;00m (next1 \u001b[38;5;241m!=\u001b[39m \u001b[38;5;28;01mNone\u001b[39;00m) \u001b[38;5;129;01mand\u001b[39;00m (next2 \u001b[38;5;241m!=\u001b[39m \u001b[38;5;28;01mNone\u001b[39;00m) :\n",
      "\u001b[1;31mKeyboardInterrupt\u001b[0m: "
     ]
    }
   ],
   "source": [
    "## Merge two linked list\n",
    "\n",
    "def MergeLinkedList(head1,head2):\n",
    "    cur1 = head1\n",
    "    cur2 = head2\n",
    "    \n",
    "    while (cur1 != None) and (cur2 != None):\n",
    "        next1 = cur1.getNext()\n",
    "        next2 = cur2.getNext()\n",
    "        \n",
    "        if (next1 != None) and (next2 != None) :\n",
    "            if cur1.data < cur2.data :\n",
    "                if next1.data < cur2.data :\n",
    "                    cur1.setNext(next1)\n",
    "                    cur1 = next1\n",
    "                else:\n",
    "                    cur1.setNext(cur2)\n",
    "                    cur1 = next1\n",
    "            else:\n",
    "                if next2.data < cur1.data :\n",
    "                    cur2.setNext(next2)\n",
    "                    cur2 = next2\n",
    "                else:\n",
    "                    cur2.setNext(cur1)\n",
    "                    cur2 = next2\n",
    "                \n",
    "            \n",
    "            \n",
    "    if head1.data < head2.data:\n",
    "        return head1\n",
    "    else:\n",
    "        return head2\n",
    "    \n",
    "    \n",
    "## calling function\n",
    "head = MergeLinkedList(head1,head2)\n"
   ]
  },
  {
   "cell_type": "code",
   "execution_count": 5,
   "id": "0f04772a",
   "metadata": {},
   "outputs": [
    {
     "name": "stdout",
     "output_type": "stream",
     "text": [
      "5 -> 4 -> 3 -> 2 -> 1 -> "
     ]
    }
   ],
   "source": [
    "## print the mergered linked list\n",
    "#print(\"Merged linked list : \",end = \" \")\n",
    "PrintLinkedList(head)"
   ]
  },
  {
   "cell_type": "markdown",
   "id": "644861ce",
   "metadata": {},
   "source": [
    "#### Problem 3: Remove the nth node from the end of a linked list.\n",
    "- Input: 1 -> 2 -> 3 -> 4 -> 5, n = 2\n",
    "- Output: 1 -> 2 -> 3 -> 5"
   ]
  },
  {
   "cell_type": "code",
   "execution_count": null,
   "id": "305c801d",
   "metadata": {},
   "outputs": [],
   "source": []
  },
  {
   "cell_type": "code",
   "execution_count": 25,
   "id": "edc8ac74",
   "metadata": {},
   "outputs": [],
   "source": [
    "head = node(1)\n",
    "node2 = node(2)\n",
    "node3 = node(3)\n",
    "node4 = node(4)\n",
    "node5 = node(5)\n",
    "\n",
    "head.setNext(node2)\n",
    "node2.setNext(node3)\n",
    "node3.setNext(node4)\n",
    "node4.setNext(node5)\n",
    "\n",
    "\n",
    "\n",
    "\n",
    "def LengthLinkedList(head):\n",
    "    temp = head\n",
    "    count = 0\n",
    "    while temp:\n",
    "        temp = temp.getNext()\n",
    "        count += 1\n",
    "        \n",
    "    return count\n",
    "        \n",
    "\n",
    "def removeNthLast(head , n):\n",
    "    size = LengthLinkedList(head)\n",
    "    \n",
    "    if n == size:   # that means remove last element from the end i.e first element from starting.\n",
    "        head = head.getNext()\n",
    "        \n",
    "    else:\n",
    "        ## traverse though the linked list till size-n node\n",
    "        temp = head\n",
    "        for i in range(size-n-1):\n",
    "            temp = temp.getNext()\n",
    "\n",
    "        temp.setNext(temp.getNext().getNext())\n",
    "    \n",
    "    return head\n",
    "    "
   ]
  },
  {
   "cell_type": "code",
   "execution_count": 26,
   "id": "cbbd067a",
   "metadata": {},
   "outputs": [
    {
     "name": "stdout",
     "output_type": "stream",
     "text": [
      "Given linked list : \n",
      "1 -> 2 -> 3 -> 4 -> 5 -> \n",
      "Linked list after removing nth element from last : \n",
      "1 -> 2 -> 3 -> 5 -> "
     ]
    }
   ],
   "source": [
    "print(\"Given linked list : \")\n",
    "PrintLinkedList(head)\n",
    "head = removeNthLast(head,n = 2)\n",
    "print(\"\\nLinked list after removing nth element from last : \")\n",
    "PrintLinkedList(head)"
   ]
  },
  {
   "cell_type": "markdown",
   "id": "16dc8d1c",
   "metadata": {},
   "source": [
    "#### Problem 4: Find the intersection point of two linked lists.\n",
    "- Input: List 1: 1 -> 2 -> 3 -> 4, List 2: 9 -> 8 -> 3 -> 4\n",
    "- Output: Node with value 3"
   ]
  },
  {
   "cell_type": "code",
   "execution_count": null,
   "id": "020d25bc",
   "metadata": {},
   "outputs": [],
   "source": []
  },
  {
   "cell_type": "code",
   "execution_count": 27,
   "id": "95123f90",
   "metadata": {},
   "outputs": [],
   "source": [
    "## creating first linked list\n",
    "head1 = node(1)\n",
    "node2 = node(2)\n",
    "node3 = node(3)\n",
    "node4 = node(4)\n",
    "\n",
    "head1.setNext(node2)\n",
    "node2.setNext(node3)\n",
    "node3.setNext(node4)\n",
    "\n",
    "\n",
    "## creating second linked list\n",
    "head2 = node(9)\n",
    "node22 = node(8)\n",
    "node23 = node(3)\n",
    "node24 = node(4)\n",
    "\n",
    "head2.setNext(node22)\n",
    "node22.setNext(node23)\n",
    "node23.setNext(node24)\n",
    "\n",
    "\n",
    "## fn that finds intersection beteween two linked list:\n",
    "def intersection(head1, head2):\n",
    "    temp1 = head1\n",
    "    temp2 = head2\n",
    "    \n",
    "    while temp1 != None and temp2 != None :\n",
    "        if temp1.data == temp2.data :\n",
    "            return temp1.data\n",
    "        \n",
    "        temp1 = temp1.getNext()\n",
    "        temp2 = temp2.getNext()\n",
    "    \n",
    "    return None"
   ]
  },
  {
   "cell_type": "code",
   "execution_count": 35,
   "id": "8ca14492",
   "metadata": {},
   "outputs": [
    {
     "name": "stdout",
     "output_type": "stream",
     "text": [
      "Linked list first :  1 -> 2 -> 3 -> 4 -> \n",
      "Linked list Second :  9 -> 8 -> 3 -> 4 -> \n",
      "Intersection point : Node with value :  3\n"
     ]
    }
   ],
   "source": [
    "print(\"Linked list first : \", end= \" \")\n",
    "PrintLinkedList(head1)\n",
    "print(\"\\nLinked list Second : \", end= \" \")\n",
    "PrintLinkedList(head2)\n",
    "\n",
    "## calling the intersection function\n",
    "output = intersection(head1, head2) \n",
    "if output :\n",
    "    print(\"\\nIntersection point : Node with value : \",output)\n",
    "else:\n",
    "    print(\"There is no intersection point between given linked list.\")"
   ]
  },
  {
   "cell_type": "markdown",
   "id": "465764a4",
   "metadata": {},
   "source": [
    "#### Problem 5: Remove duplicates from a sorted linked list.\n",
    "- Input: 1 -> 1 -> 2 -> 3 -> 3\n",
    "- Output: 1 -> 2 -> 3"
   ]
  },
  {
   "cell_type": "code",
   "execution_count": null,
   "id": "de638537",
   "metadata": {},
   "outputs": [],
   "source": []
  },
  {
   "cell_type": "code",
   "execution_count": 44,
   "id": "b6617448",
   "metadata": {},
   "outputs": [],
   "source": [
    "## creating linked list\n",
    "head = node(1)\n",
    "node2 = node(1)\n",
    "node3 = node(2)\n",
    "node4 = node(3)\n",
    "node5 = node(3)\n",
    "\n",
    "\n",
    "head.setNext(node2)\n",
    "node2.setNext(node3)\n",
    "node3.setNext(node4)\n",
    "node4.setNext(node5)\n",
    "\n",
    "\n",
    "def duplicates(head):\n",
    "    cur = head\n",
    "    \n",
    "    while (cur!= None) and (cur.getNext() != None):\n",
    "        if cur.data == cur.getNext().data:\n",
    "            cur.setNext(cur.getNext().getNext())\n",
    "            \n",
    "        cur = cur.getNext()\n",
    "    \n",
    "    return head"
   ]
  },
  {
   "cell_type": "code",
   "execution_count": 45,
   "id": "3c4e5d6d",
   "metadata": {},
   "outputs": [
    {
     "name": "stdout",
     "output_type": "stream",
     "text": [
      "Linked list :  1 -> 1 -> 2 -> 3 -> 3 -> New linked list : \n",
      "1 -> 2 -> 3 -> "
     ]
    }
   ],
   "source": [
    "print(\"Linked list : \", end= \" \")\n",
    "PrintLinkedList(head)\n",
    "\n",
    "print(\"New linked list : \")\n",
    "head = duplicates(head)\n",
    "PrintLinkedList(head)\n"
   ]
  },
  {
   "cell_type": "code",
   "execution_count": null,
   "id": "91e7b2ee",
   "metadata": {},
   "outputs": [],
   "source": []
  },
  {
   "cell_type": "markdown",
   "id": "42d917ae",
   "metadata": {},
   "source": [
    "#### Problem 6: Add two numbers represented by linked lists (where each node contains a single digit).\n",
    "- Input: List 1: 2 -> 4 -> 3, List 2: 5 -> 6 -> 4 (represents 342 + 465)\n",
    "- Output: 7 -> 0 -> 8 (represents 807)"
   ]
  },
  {
   "cell_type": "code",
   "execution_count": null,
   "id": "8839bf59",
   "metadata": {},
   "outputs": [],
   "source": []
  },
  {
   "cell_type": "code",
   "execution_count": 62,
   "id": "eee7e91e",
   "metadata": {},
   "outputs": [],
   "source": [
    "## creating first linked list\n",
    "head1 = node(2)\n",
    "node2 = node(4)\n",
    "node3 = node(3)\n",
    "\n",
    "head1.setNext(node2)\n",
    "node2.setNext(node3)\n",
    "\n",
    "\n",
    "## creating second linked list\n",
    "head2 = node(5)\n",
    "node22 = node(6)\n",
    "node23 = node(4)\n",
    "\n",
    "head2.setNext(node22)\n",
    "node22.setNext(node23)\n",
    "\n",
    "\n",
    "\n",
    "def addNum(head1, head2):\n",
    "    temp1 = head1\n",
    "    temp2 = head2\n",
    "    digit = 0\n",
    "    carry = 0\n",
    "    head = None\n",
    "    tail = None\n",
    "    \n",
    "    while (temp1 != None) and (temp2 != None):\n",
    "        num = temp1.data + temp2.data + carry\n",
    "        \n",
    "        if num >= 10 :\n",
    "            carry = num // 10\n",
    "            digit = num % 10\n",
    "            \n",
    "            newNode = node(digit)\n",
    "        \n",
    "        else:\n",
    "            newNode = node(num)\n",
    "            \n",
    "            \n",
    "        if head == None:\n",
    "            head = newNode\n",
    "            tail = newNode\n",
    "        \n",
    "        else:\n",
    "            tail.setNext(newNode)\n",
    "            tail = newNode\n",
    "            \n",
    "        temp1 = temp1.getNext()\n",
    "        temp2 = temp2.getNext()\n",
    "        \n",
    "        \n",
    "    return head"
   ]
  },
  {
   "cell_type": "code",
   "execution_count": 63,
   "id": "ac49c6c3",
   "metadata": {},
   "outputs": [
    {
     "name": "stdout",
     "output_type": "stream",
     "text": [
      "Linked list first :  2 -> 4 -> 3 -> \n",
      "Linked list Second :  5 -> 6 -> 4 -> \n",
      "Output Linked List :  7 -> 0 -> 8 -> "
     ]
    }
   ],
   "source": [
    "print(\"Linked list first : \", end= \" \")\n",
    "PrintLinkedList(head1)\n",
    "print(\"\\nLinked list Second : \", end= \" \")\n",
    "PrintLinkedList(head2)\n",
    "\n",
    "## calling the intersection function\n",
    "head = addNum(head1, head2)\n",
    "print(\"\\nOutput Linked List : \",end=\" \")\n",
    "PrintLinkedList(head)"
   ]
  },
  {
   "cell_type": "markdown",
   "id": "439bff1a",
   "metadata": {},
   "source": [
    "#### Problem 7: Swap nodes in pairs in a linked list.\n",
    "- Input: 1 -> 2 -> 3 -> 4\n",
    "- Output: 2 -> 1 -> 4 -> 3"
   ]
  },
  {
   "cell_type": "code",
   "execution_count": 72,
   "id": "8eb4c893",
   "metadata": {},
   "outputs": [],
   "source": [
    "## creating first linked list\n",
    "head = node(1)\n",
    "node2 = node(2)\n",
    "node3 = node(3)\n",
    "node4 = node(4)\n",
    "\n",
    "head.setNext(node2)\n",
    "node2.setNext(node3)\n",
    "node3.setNext(node4)"
   ]
  },
  {
   "cell_type": "code",
   "execution_count": 73,
   "id": "81104828",
   "metadata": {},
   "outputs": [],
   "source": [
    "def SwapPairNodes(head):\n",
    "    cur = head\n",
    "    \n",
    "    while (cur != None) and (cur.getNext() != None) :\n",
    "        \n",
    "        ## just swap the data not reference\n",
    "        cur.data , cur.getNext().data = cur.getNext().data , cur.data\n",
    "        \n",
    "        ## update current\n",
    "        cur = cur.getNext().getNext()\n",
    "        \n",
    "    \n",
    "    return head\n",
    "    "
   ]
  },
  {
   "cell_type": "code",
   "execution_count": 76,
   "id": "3fb9f8b3",
   "metadata": {},
   "outputs": [
    {
     "name": "stdout",
     "output_type": "stream",
     "text": [
      "Given Linked List : \n",
      "1 -> 2 -> 3 -> 4 -> \n",
      "Linked List after swaping pair nodes: \n",
      "2 -> 1 -> 4 -> 3 -> "
     ]
    }
   ],
   "source": [
    "print(\"Given Linked List : \")\n",
    "PrintLinkedList(head)\n",
    "\n",
    "## calling function\n",
    "head = SwapPairNodes(head)\n",
    "\n",
    "print(\"\\nLinked List after swaping pair nodes: \")\n",
    "PrintLinkedList(head)"
   ]
  },
  {
   "cell_type": "code",
   "execution_count": null,
   "id": "74be6d4e",
   "metadata": {},
   "outputs": [],
   "source": []
  },
  {
   "cell_type": "markdown",
   "id": "5aef50ad",
   "metadata": {},
   "source": [
    "#### Problem 8: Reverse nodes in a linked list in groups of k.\n",
    "- Input: 1 -> 2 -> 3 -> 4 -> 5, k = 3\n",
    "- Output: 3 -> 2 -> 1 -> 4 -> 5"
   ]
  },
  {
   "cell_type": "code",
   "execution_count": 121,
   "id": "a0436e6f",
   "metadata": {},
   "outputs": [],
   "source": [
    "## creating first linked list\n",
    "head = node(1)\n",
    "node2 = node(2)\n",
    "node3 = node(3)\n",
    "node4 = node(4)\n",
    "node5 = node(5)\n",
    "\n",
    "\n",
    "head.setNext(node2)\n",
    "node2.setNext(node3)\n",
    "node3.setNext(node4)\n",
    "node4.setNext(node5)"
   ]
  },
  {
   "cell_type": "code",
   "execution_count": 116,
   "id": "b3a6a75b",
   "metadata": {},
   "outputs": [],
   "source": [
    "def finKthNode(temp,k):\n",
    "    count = 1\n",
    "    while (temp != None) and (count < k):\n",
    "        count += 1\n",
    "        temp = temp.getNext()\n",
    "        \n",
    "    return temp\n",
    "\n",
    "\n",
    "def reverseLinkedList(temp):\n",
    "    prev = None\n",
    "    cur = temp\n",
    "    Next = None\n",
    "    \n",
    "    while cur != None:\n",
    "        Next = cur.getNext()\n",
    "        \n",
    "        cur.setNext(prev)\n",
    "        prev = cur\n",
    "        cur = Next\n",
    "        \n",
    "    return prev\n",
    "        \n",
    "        "
   ]
  },
  {
   "cell_type": "code",
   "execution_count": 119,
   "id": "726bc8d9",
   "metadata": {},
   "outputs": [],
   "source": [
    "def ReverseNode(head,k):\n",
    "    temp = head\n",
    "    prev = None\n",
    "    nextNode = None\n",
    "    \n",
    "    while temp != None:\n",
    "    \n",
    "        ## find the kth node\n",
    "        kthNode = finKthNode(temp,k)\n",
    "\n",
    "        if kthNode == None:\n",
    "            if prev != None:\n",
    "                prev.setNext(temp)\n",
    "                break\n",
    "            else:\n",
    "                break\n",
    "        # save the kth node's next into nextNode\n",
    "        nextNode = kthNode.getNext()\n",
    "        kthNode.setNext(None)\n",
    "\n",
    "        ## call the reverse function to reverse the group\n",
    "        newHead = reverseLinkedList(temp)\n",
    "            \n",
    "        \n",
    "\n",
    "        ## check for actual head\n",
    "        if temp == head:\n",
    "            head = newHead    # kth node of first group\n",
    "        else:\n",
    "            prev.setNext(temp)\n",
    "        \n",
    "\n",
    "        ## update the pointers\n",
    "        prev = temp\n",
    "        temp = nextNode\n",
    "        \n",
    "    return head"
   ]
  },
  {
   "cell_type": "code",
   "execution_count": 122,
   "id": "15992fb9",
   "metadata": {},
   "outputs": [
    {
     "name": "stdout",
     "output_type": "stream",
     "text": [
      "Given linked list :\n",
      "1 -> 2 -> 3 -> 4 -> 5 -> \n",
      "Grouped Reversed Linked List :\n",
      "3 -> 2 -> 1 -> 4 -> 5 -> "
     ]
    }
   ],
   "source": [
    "print(\"Given linked list :\")\n",
    "PrintLinkedList(head)\n",
    "\n",
    "head = ReverseNode(head,k=3)\n",
    "\n",
    "print(\"\\nGrouped Reversed Linked List :\")\n",
    "PrintLinkedList(head)"
   ]
  },
  {
   "cell_type": "markdown",
   "id": "d8760876",
   "metadata": {},
   "source": [
    "#### Problem 9: Determine if a linked list is a palindrome.\n",
    "- Input: 1 -> 2 -> 2 -> 1\n",
    "- Output: True"
   ]
  },
  {
   "cell_type": "code",
   "execution_count": 130,
   "id": "ca2c81df",
   "metadata": {},
   "outputs": [],
   "source": [
    "## creating first linked list\n",
    "head = node(1)\n",
    "node2 = node(2)\n",
    "node3 = node(2)\n",
    "node4 = node(1)\n",
    "\n",
    "head.setNext(node2)\n",
    "node2.setNext(node3)\n",
    "node3.setNext(node4)"
   ]
  },
  {
   "cell_type": "code",
   "execution_count": 128,
   "id": "293b5d8f",
   "metadata": {},
   "outputs": [],
   "source": [
    "def palindromeOrNot(head):\n",
    "    temp = head\n",
    "    stack = []\n",
    "    while temp:\n",
    "        stack.append(temp.data)\n",
    "        temp = temp.getNext()\n",
    "    \n",
    "    temp = head\n",
    "    while temp:\n",
    "        if temp.data != stack.pop():\n",
    "            return False\n",
    "        else:\n",
    "            temp = temp.getNext()\n",
    "            \n",
    "    return True    "
   ]
  },
  {
   "cell_type": "code",
   "execution_count": 131,
   "id": "c98a7b54",
   "metadata": {},
   "outputs": [
    {
     "name": "stdout",
     "output_type": "stream",
     "text": [
      "Given linked list :\n",
      "1 -> 2 -> 2 -> 1 -> \n",
      "linked list is Palindrome.\n"
     ]
    }
   ],
   "source": [
    "print(\"Given linked list :\")\n",
    "PrintLinkedList(head)\n",
    "\n",
    "if palindromeOrNot(head):\n",
    "    print(\"\\nlinked list is Palindrome.\")\n",
    "else:\n",
    "    print(\"\\nLinked List is not Palindrome \")\n"
   ]
  },
  {
   "cell_type": "markdown",
   "id": "e55ab3be",
   "metadata": {},
   "source": [
    "#### Problem 10: Rotate a linked list to the right by k places.\n",
    "- Input: 1 -> 2 -> 3 -> 4 -> 5, k = 2\n",
    "- Output: 4 -> 5 -> 1 -> 2 -> 3"
   ]
  },
  {
   "cell_type": "code",
   "execution_count": 162,
   "id": "20b32de0",
   "metadata": {},
   "outputs": [],
   "source": [
    "## creating first linked list\n",
    "head = node(1)\n",
    "node2 = node(2)\n",
    "node3 = node(3)\n",
    "node4 = node(4)\n",
    "node5 = node(5)\n",
    "\n",
    "\n",
    "head.setNext(node2)\n",
    "node2.setNext(node3)\n",
    "node3.setNext(node4)\n",
    "node4.setNext(node5)"
   ]
  },
  {
   "cell_type": "code",
   "execution_count": 163,
   "id": "ce851708",
   "metadata": {},
   "outputs": [
    {
     "name": "stdout",
     "output_type": "stream",
     "text": [
      "Given linked list :\n",
      "1 -> 2 -> 3 -> 4 -> 5 -> "
     ]
    }
   ],
   "source": [
    "print(\"Given linked list :\")\n",
    "PrintLinkedList(head)"
   ]
  },
  {
   "cell_type": "code",
   "execution_count": 164,
   "id": "821e0567",
   "metadata": {},
   "outputs": [],
   "source": [
    "def sizeOfLL(head):\n",
    "    temp = head\n",
    "    count = 0\n",
    "    \n",
    "    while temp:\n",
    "        count += 1\n",
    "        temp = temp.getNext()\n",
    "        \n",
    "    return count\n",
    "    \n",
    "    \n",
    "\n",
    "def rotateLinkedList(head):\n",
    "    temp = head\n",
    "    tail = head\n",
    "    newNode = None\n",
    "    size = sizeOfLL(head)\n",
    "    \n",
    "    i = 0\n",
    "    while (temp != None) and (i < size-2):\n",
    "        i += 1\n",
    "        temp = temp.getNext()\n",
    "    \n",
    "    newNode = temp.getNext()\n",
    "    temp.setNext(None)\n",
    "    \n",
    "    newNode.setNext(head)\n",
    "    \n",
    "    \n",
    "    return newNode\n",
    "        \n",
    "    \n",
    "    \n",
    "## run this function k times\n",
    "k = 2\n",
    "for i in range(k-1):\n",
    "    head = rotateLinkedList(head)"
   ]
  },
  {
   "cell_type": "code",
   "execution_count": 165,
   "id": "a139d35b",
   "metadata": {},
   "outputs": [
    {
     "name": "stdout",
     "output_type": "stream",
     "text": [
      "\n",
      "Rotated linked list :\n",
      "4 -> 5 -> 1 -> 2 -> 3 -> "
     ]
    }
   ],
   "source": [
    "head = rotateLinkedList(head)\n",
    "print(\"\\nRotated linked list :\")\n",
    "PrintLinkedList(head)"
   ]
  },
  {
   "cell_type": "markdown",
   "id": "e135bca6",
   "metadata": {},
   "source": [
    "#### Problem 11: Flatten a multilevel doubly linked list.\n",
    "- Input: 1 <-> 2 <-> 3 <-> 7 <-> 8 <-> 11 -> 12, 4 <-> 5 -> 9 -> 10, 6 -> 13\n",
    "- Output: 1 <-> 2 <-> 3 <-> 4 <-> 5 <-> 6 <-> 7 <-> 8 <-> 9 <-> 10 <-> 11 <-> 12 <-> 13"
   ]
  },
  {
   "cell_type": "markdown",
   "id": "fbe364bd",
   "metadata": {},
   "source": [
    "#### Problem 12: Rearrange a linked list such that all even positioned nodes are placed at the end.\n",
    "- Input: 1 -> 2 -> 3 -> 4 -> 5\n",
    "\n",
    "- Output: 1 -> 3 -> 5 -> 2 -> 4"
   ]
  },
  {
   "cell_type": "markdown",
   "id": "0d6ac113",
   "metadata": {},
   "source": [
    "#### Problem 13: Given a non-negative number represented as a linked list, add one to it.\n",
    "- Input: 1 -> 2 -> 3 (represents the number 123)\n",
    "\n",
    "- Output: 1 -> 2 -> 4 (represents the number 124)"
   ]
  },
  {
   "cell_type": "markdown",
   "id": "4432d76d",
   "metadata": {},
   "source": [
    "#### Problem 14: Given a sorted array and a target value, return the index if the target is found. If not, return the index where it would be inserted."
   ]
  },
  {
   "cell_type": "markdown",
   "id": "215a3e50",
   "metadata": {},
   "source": [
    "#### Problem 15: Find the minimum element in a rotated sorted array."
   ]
  },
  {
   "cell_type": "markdown",
   "id": "53d807bf",
   "metadata": {},
   "source": [
    "#### Problem 16: Search for a target value in a rotated sorted array."
   ]
  },
  {
   "cell_type": "markdown",
   "id": "55d59894",
   "metadata": {},
   "source": [
    "#### Problem 17: Find the peak element in an array. A peak element is greater than its neighbors."
   ]
  },
  {
   "cell_type": "markdown",
   "id": "10f76e85",
   "metadata": {},
   "source": [
    "#### Problem 18: Given a m x n matrix where each row and column is sorted in ascending order, count the number of negative numbers."
   ]
  },
  {
   "cell_type": "markdown",
   "id": "7682b155",
   "metadata": {},
   "source": []
  }
 ],
 "metadata": {
  "kernelspec": {
   "display_name": "Python 3 (ipykernel)",
   "language": "python",
   "name": "python3"
  },
  "language_info": {
   "codemirror_mode": {
    "name": "ipython",
    "version": 3
   },
   "file_extension": ".py",
   "mimetype": "text/x-python",
   "name": "python",
   "nbconvert_exporter": "python",
   "pygments_lexer": "ipython3",
   "version": "3.9.12"
  }
 },
 "nbformat": 4,
 "nbformat_minor": 5
}
